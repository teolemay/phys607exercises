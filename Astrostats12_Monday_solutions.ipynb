{
 "cells": [
  {
   "cell_type": "markdown",
   "id": "ba24322a-cd91-445c-a0c4-c6bfee7dae86",
   "metadata": {},
   "source": [
    "# Astrostats Week 12: Dimension Reduction "
   ]
  },
  {
   "cell_type": "markdown",
   "id": "a6b197d9-01ac-468c-bf8c-306308674aa0",
   "metadata": {},
   "source": [
    "\n",
    "## Dimensionality and the \"Curse of Dimensionality\"\n",
    "\n",
    "Key points from the lecture:\n",
    "- Each of the “things” we can measure about an object is a “dimension” or “feature” of that object\n",
    "- We need D pieces of information (dimensions) to describe the location of each object in a D-dimensional space\n",
    "- The intrinsic dimension of a space is the minimum number of dimensions you need to describe a location in that space \n",
    "- The extrinsic dimension of a space is the number of dimensions you actually measure\n",
    "\n",
    "- The more dimensions a dataset has, the more data is required to constrain a model\n",
    "\n",
    "### Exercise: Investiage the \"Curse of Dimensionality\"\n",
    "\n",
    "Generate $n$ random points in $D$-dimensions and count how many of those points fall within a $D$-dimensional hypersphere of radius $1$ centered on the  origin.  \n",
    "When generating the random points, restrict them to some reasonable range such as $[-2,2]$ in each dimension. \n",
    "\n",
    "How does the number of points within the hypersphere scale with dimension? Plot counts vs dimensions. \n",
    "\n",
    "\n",
    "\n",
    "<details>\n",
    "  <summary>Hint 1:</summary>\n",
    "For example:   \n",
    "    \n",
    "    - in the 2-D case generate n random points (x,y) and count how many points fall within a circle centered on the origin.  \n",
    "    - in the 3-D case generate n random points (x,y,z) and count how many points fall within a sphere centered on the origin.  \n",
    "Extrapolate this for higher dimensions. \n",
    "</details>\n",
    "  \n",
    "\n",
    "<details>\n",
    "  <summary>Hint 2:</summary>\n",
    "Points fall within the hypersphere of radius $1$ if their Euclidean distance from the origin is less than or equal to 1. \n",
    "</details>\n",
    "\n",
    "<details>\n",
    "  <summary>Hint 3:</summary>\n",
    "The D-dimensionsal Euclidean distance to the origin is given by:\n",
    "\\begin{equation}\n",
    "d = \\sqrt{ \\sum_{i=0}^{D} ( x_i )^2 }\n",
    "\\end{equation}\n",
    "Check if this distance is less than one for each point. \n",
    "</details>"
   ]
  },
  {
   "cell_type": "code",
   "execution_count": 7,
   "id": "d8e7f005-42cd-49fe-bd7a-442b5526e7fd",
   "metadata": {},
   "outputs": [
    {
     "data": {
      "text/plain": [
       "[<matplotlib.lines.Line2D at 0x12741a150>]"
      ]
     },
     "execution_count": 7,
     "metadata": {},
     "output_type": "execute_result"
    },
    {
     "data": {
      "image/png": "[encoded data removed]",
      "text/plain": [
       "<Figure size 640x480 with 1 Axes>"
      ]
     },
     "metadata": {},
     "output_type": "display_data"
    }
   ],
   "source": [
    "import matplotlib.pyplot as plt\n",
    "import numpy as np\n",
    "\n",
    "\n",
    "def countPointsinHyperSphere( D, n = int(1e3) ): \n",
    "    '''\n",
    "    Count the number of randomly generated points which fall inside a D-dimensional hypersphere\n",
    "\n",
    "    Inputs:\n",
    "    D = number of dimensions \n",
    "    n = number of points\n",
    "\n",
    "    Returns:\n",
    "    cnt = number of points which fell inside the D-dimensional hypersphere\n",
    "    '''\n",
    "    ### YOUR CODE HERE ###\n",
    "    \n",
    "    cnt = 0\n",
    "    \n",
    "    for point in range(0, n):\n",
    "        \n",
    "        # Generate a random point in the range [-2, 2] along each axis \n",
    "        point = np.random.random( D ) * 4 - 2\n",
    "    \n",
    "        # Calculate the distance to the origin\n",
    "        dist = np.sqrt( np.sum(point**2) )\n",
    "    \n",
    "        # If distance is less than 1, update the count \n",
    "        if dist <= 1:\n",
    "            cnt += 1\n",
    "\n",
    "    return cnt\n",
    "\n",
    "\n",
    "dims = np.arange(1,30)\n",
    "cnt = [ countPointsinHyperSphere( val ) for val in dims ]\n",
    "\n",
    "\n",
    "plt.figure()\n",
    "plt.title('Number of points within a hypersphere as a function of dimension')\n",
    "plt.xlabel('Number of dimensions')\n",
    "plt.ylabel('Number of points')\n",
    "\n",
    "plt.plot( dims, cnt, '-o' ) "
   ]
  },
  {
   "cell_type": "markdown",
   "id": "d1f966c0",
   "metadata": {},
   "source": [
    "## Dimensionality and the \"Curse of Dimensionality\"\n",
    "\n",
    "\n",
    "\n",
    "We will now build our own function for PCA and use it to work with SDSS galaxy spectra data\n",
    "\n",
    "\n",
    "### Exercise: Build and play with PCA"
   ]
  },
  {
   "cell_type": "code",
   "execution_count": null,
   "id": "7820174e",
   "metadata": {},
   "outputs": [],
   "source": [
    "'''First, let`s install python module to get SDSS data'''\n",
    "!pip install astroML\n",
    "\n",
    "from astroML.datasets import sdss_corrected_spectra"
   ]
  },
  {
   "cell_type": "code",
   "execution_count": null,
   "id": "2dec83b0",
   "metadata": {},
   "outputs": [],
   "source": [
    "'''Let`s now fetch spectra of 4000 galaxies that span across 1000 wavelength '''\n",
    "\n",
    "data = sdss_corrected_spectra.fetch_sdss_corrected_spectra() # data dictionary\n",
    "spectra = sdss_corrected_spectra.reconstruct_spectra(data) # [4000, 1000] data\n",
    "wavelength = sdss_corrected_spectra.compute_wavelengths(data) # wavelength for spectra\n",
    "cl = data['spec_cln'] # spectral class (yes, not everything is galaxy spectra here)"
   ]
  },
  {
   "cell_type": "markdown",
   "id": "ab034d8c",
   "metadata": {},
   "source": [
    "Now when we have our data, before we run PCA on it, we have to rescale it. \n",
    "If our data had features of different units, we should standardize features by removing the mean and scaling to unit variance (see [StandardScaler - scikit-learn](https://scikit-learn.org/stable/modules/generated/sklearn.preprocessing.StandardScaler.html)). \n",
    "But we only have flux at different wavelength, so we can just remove the mean spectra.\n"
   ]
  },
  {
   "cell_type": "code",
   "execution_count": null,
   "id": "8a140df3",
   "metadata": {},
   "outputs": [],
   "source": [
    "avg_spectra = np.average(spectra, axis=0)\n",
    "rescaled_data = spectra - avg_spectra"
   ]
  },
  {
   "cell_type": "markdown",
   "id": "665bf996",
   "metadata": {},
   "source": [
    "Use singular value decomposition (SVD) to write function for PCA that will take our data and output eigenvectors, eigenvalues and projection of our data on principal components. Fortunately, numpy has SVD ([numpy.linalg.svd - NumPy](https://numpy.org/doc/stable/reference/generated/numpy.linalg.svd.html)).\n",
    "\n",
    "Then build a Scree plot that can tell us how many principal components are enought to characterize majority of variane in our data."
   ]
  },
  {
   "cell_type": "code",
   "execution_count": null,
   "id": "4a859e95",
   "metadata": {},
   "outputs": [],
   "source": [
    "def PCA(rescaled_data):\n",
    "    '''\n",
    "    Principal Components Analysis\n",
    "\n",
    "    Parameters\n",
    "    ----------\n",
    "    rescaled_data : Array [M, F]\n",
    "        M - number of samples of data. F - number of features.\n",
    "        In your case it`s [galaxies, wavelengthes]\n",
    "\n",
    "    Returns\n",
    "    -------\n",
    "    ei_vals : Array [min(M, F),]\n",
    "        Eigenvalues which define the amount of variance contained within each component.\n",
    "    ei_vecs : Array [min(M, F), min(M, F)]\n",
    "        Eigenvectors (principal components) - vectors that are aligned with the deriction of maximal variance.\n",
    "    projected : Array [M, min(M, F)]\n",
    "        Data projected on eigenvectors.\n",
    "\n",
    "    '''\n",
    "    \n",
    "    U, Sigma, VT = np.linalg.svd(rescaled_data, full_matrices=False)\n",
    "    ei_vals = Sigma**2\n",
    "    ei_vecs = VT\n",
    "    projected = np.dot(rescaled_data, VT[:, :] )\n",
    "    \n",
    "    return ei_vals, ei_vecs, projected"
   ]
  },
  {
   "cell_type": "code",
   "execution_count": null,
   "id": "537fafd3",
   "metadata": {},
   "outputs": [],
   "source": [
    "ei_vals, ei_vecs, projected = PCA(rescaled)\n",
    "\n",
    "total_variance = np.sum(ei_vals)\n",
    "variance_ratio = ei_vals / total_variance\n",
    "cumulative_variance_ratio = np.cumsum(variance_ratio)\n",
    "\n",
    "plt.figure(figsize=(10, 6))\n",
    "plt.bar(range(1, len(ei_vals) + 1), variance_ratio, alpha=0.7, align='center', label='Individual explained variance')\n",
    "plt.step(range(1, len(ei_vals) + 1), cumulative_variance_ratio, where='mid', label='Cumulative explained variance')\n",
    "plt.xlabel('Principal Components')\n",
    "plt.ylabel('Explained Variance Ratio')\n",
    "# plt.title('Scree Plot')\n",
    "plt.xscale('log')\n",
    "plt.xlim(1,1000)\n",
    "plt.legend()\n",
    "plt.grid(True)\n",
    "plt.show()"
   ]
  },
  {
   "cell_type": "markdown",
   "id": "91038f44",
   "metadata": {},
   "source": [
    "It is often usefull in the analysis to plot Principal Component Plane (PCP). It's even better when the data can be mostly described by 2 Principal Components, which is our case. Make a scatter plot using any 2 projected data vectors."
   ]
  },
  {
   "cell_type": "code",
   "execution_count": null,
   "id": "01a32340",
   "metadata": {},
   "outputs": [],
   "source": [
    "PC_index_1 = 0\n",
    "PC_index_2 = 1\n",
    "\n",
    "plt.scatter(projected[:,PC_index_1], \n",
    "            projected[:,PC_index_2], s=1, zorder=1)\n",
    "plt.show()\n"
   ]
  },
  {
   "cell_type": "markdown",
   "id": "6cf33236",
   "metadata": {},
   "source": [
    "PCP can help to identify outliers, extreme data cases and cluster the data. Our spectra is not completely consists of galaxies. Add these lines to your plot and see where non-galactic spectra lies on PCP:"
   ]
  },
  {
   "cell_type": "code",
   "execution_count": null,
   "id": "947ef2b7",
   "metadata": {},
   "outputs": [],
   "source": [
    "plt.scatter(projected[:,PC_index_1][unknown_mask], \n",
    "            projected[:,PC_index_2][unknown_mask], s=1, c='black',zorder=10)\n",
    "plt.scatter(projected[:,PC_index_1][quasar_mask], \n",
    "            projected[:,PC_index_2][quasar_mask], s=1, c='orange',zorder=10)\n",
    "plt.scatter(projected[:,PC_index_1][redstar_mask], \n",
    "            projected[:,PC_index_2][redstar_mask], s=1, c='red',zorder=10)\n",
    "plt.scatter(projected[:,PC_index_1][star_mask], \n",
    "            projected[:,PC_index_2][star_mask], s=1, c='purple',zorder=10)\n",
    "\n",
    "plt.scatter(projected[:,PC_index_1], \n",
    "            projected[:,PC_index_2], s=1, zorder=1)\n",
    "plt.show()"
   ]
  },
  {
   "cell_type": "markdown",
   "id": "b6131450",
   "metadata": {},
   "source": [
    "We can reconstruct data points from PC-projection back to real data. This is used to see how outliers look, explore extreme cases or reduce noise of the data.\n",
    "\n",
    "Build a function to deproject data from PC hyperplane, rescale and retrieved real data. It is easy to see that zero-vector on PC hyperplane will be qeual to the mean after deprojection. Try it for yourself. If deprojected zero-vector is = to mean spectra, this means your PCA is correct. You can then deproject different coordinates or whole data and see what it looks like."
   ]
  },
  {
   "cell_type": "code",
   "execution_count": null,
   "id": "0cdb296a",
   "metadata": {},
   "outputs": [],
   "source": [
    "def reconstruct(PC_coords, eigenvectors, mean):\n",
    "    '''\n",
    "    Reconstructs data from projection coordinates.\n",
    "\n",
    "    Parameters\n",
    "    ----------\n",
    "    PCP_coords : Array [M , K]\n",
    "        Coodinates in PC hyperplane.\n",
    "        M is number of measurements, K is number of principal components.\n",
    "        Example: if you want to reconstruct single point on 2D PCP, \n",
    "        your PCP_coords are gonna be [[x, y]].\n",
    "    eigenvectors : Array [K , F]\n",
    "        Eigenvector array of your PCA.\n",
    "        K is number of principal components. F is number of features, in your case –\n",
    "        number of wavelength.\n",
    "    mean : array [M,]\n",
    "        Array of average values of your raw data. In your case – average spectra\n",
    "\n",
    "    Returns\n",
    "    -------\n",
    "    reconstructed : Array [M x F]\n",
    "        Returns ([M , K] ⋅ [K , F]) + [F,] – data reconstructed from K \n",
    "        principal components\n",
    "\n",
    "    '''\n",
    "    \n",
    "    \n",
    "    reconstructed = np.dot(PC_coords, eigenvectors[:n_comp, :])\n",
    "\n",
    "    reconstructed = reconstructed + mean\n",
    "    \n",
    "    return reconstructed\n",
    "    \n",
    "\n",
    "interesting = reconstruct([[0, 0]], ei_vecs[:2, :], avg_spectra)\n",
    "\n",
    "plt.plot(wavelength, interesting.T)\n",
    "plt.show()\n",
    "\n",
    "n_comp=1\n",
    "reconstructed = reconstruct(projected[:, :n_comp], ei_vecs[:n_comp, :], avg_spectra)\n",
    "plt.plot(wavelength, reconstructed.T, linewidth=0.2, alpha=0.5)\n",
    "plt.title('reconstructed data; '+ str(n_comp)+' PCs')\n",
    "plt.show()"
   ]
  },
  {
   "cell_type": "markdown",
   "id": "aa2cc349",
   "metadata": {},
   "source": [
    "Most common way to do PCA in python is to use "
   ]
  }
 ],
 "metadata": {
  "kernelspec": {
   "display_name": "Python 3 (ipykernel)",
   "language": "python",
   "name": "python3"
  },
  "language_info": {
   "codemirror_mode": {
    "name": "ipython",
    "version": 3
   },
   "file_extension": ".py",
   "mimetype": "text/x-python",
   "name": "python",
   "nbconvert_exporter": "python",
   "pygments_lexer": "ipython3",
   "version": "3.11.5"
  }
 },
 "nbformat": 4,
 "nbformat_minor": 5
}
